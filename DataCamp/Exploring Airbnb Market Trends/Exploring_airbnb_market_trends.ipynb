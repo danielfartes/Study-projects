{
 "cells": [
  {
   "cell_type": "markdown",
   "id": "742736bf-c083-412d-a95e-f2633b80c201",
   "metadata": {},
   "source": [
    "# Exploring Airbnb Market Trends"
   ]
  },
  {
   "cell_type": "markdown",
   "id": "6fa93d32-7f01-4c96-b783-bbb2fafcdeb8",
   "metadata": {},
   "source": [
    "### DataCamp projects developing to practice and learn"
   ]
  },
  {
   "cell_type": "code",
   "execution_count": null,
   "id": "aa08551f-370c-46dc-bae9-ca91c1f78b98",
   "metadata": {},
   "outputs": [],
   "source": [
    "import numpy as np\n",
    "import pandas as pd\n",
    "\n",
    "#Reading data\n",
    "airbnb_price = pd.read_csv('data/airbnb_price.csv')\n",
    "airbnb_room_type = pd.read_excel('data/airbnb_room_type.xlsx')\n",
    "airbnb_last_review = pd.read_csv('data/airbnb_last_review.tsv',sep='\\t')\n",
    "\n",
    "#Looking data\n",
    "#print(airbnb_price.head())\n",
    "#print(airbnb_room_type.head())\n",
    "#print(airbnb_last_review.head())\n",
    "\n",
    "#Merging dataset \n",
    "airbnb_price_room_type = pd.merge(airbnb_price,airbnb_room_type, on='listing_id')\n",
    "airbnb = pd.merge(airbnb_price_room_type, airbnb_last_review, on='listing_id')\n",
    "\n",
    "#Converting last_reviews column to a date format \n",
    "airbnb['last_review'] = pd.to_datetime(airbnb['last_review'], format='%B %d %Y')\n",
    "\n",
    "#Finding date earliest and last review\n",
    "first_reviewed = airbnb['last_review'].min()\n",
    "last_reviewed = airbnb['last_review'].max()\n",
    "\n",
    "#Finding private rooms\n",
    "airbnb['room_type'] = airbnb['room_type'].str.lower()\n",
    "airbnb_private_room = airbnb[airbnb['room_type'] == 'private room']\n",
    "nb_private_rooms = airbnb_private_room['room_type'].shape[0]\n",
    "\n",
    "#Finding the average price of Airbnbs\n",
    "airbnb['price_clean'] = airbnb['price'].str.replace(' dollars','')\n",
    "airbnb['price_clean'] = airbnb['price_clean'].astype(float)\n",
    "avg_price = airbnb['price_clean'].mean()\n",
    "\n",
    "#Including all variables in one dataframe\n",
    "dictionary = {'first_reviewed':first_reviewed,'last_reviewed':last_reviewed,'nb_private_rooms':nb_private_rooms,'avg_price':round(avg_price,2)}\n",
    "#Creating the dataframe\n",
    "review_dates = pd.DataFrame([dictionary])\n"
   ]
  }
 ],
 "metadata": {
  "kernelspec": {
   "display_name": "Python 3 (ipykernel)",
   "language": "python",
   "name": "python3"
  },
  "language_info": {
   "codemirror_mode": {
    "name": "ipython",
    "version": 3
   },
   "file_extension": ".py",
   "mimetype": "text/x-python",
   "name": "python",
   "nbconvert_exporter": "python",
   "pygments_lexer": "ipython3",
   "version": "3.11.5"
  }
 },
 "nbformat": 4,
 "nbformat_minor": 5
}
