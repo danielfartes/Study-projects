{
 "cells": [
  {
   "cell_type": "markdown",
   "id": "c9ff5cb8-ef91-4e98-934a-09d3c0be38c9",
   "metadata": {},
   "source": [
    "# Visualizing the History of Nobel Prize Winners"
   ]
  },
  {
   "cell_type": "markdown",
   "id": "73716d9d-c7b6-4531-b068-16a728ef2a63",
   "metadata": {},
   "source": [
    "### DataCamp projects developing to practice and learn"
   ]
  },
  {
   "cell_type": "code",
   "execution_count": null,
   "id": "c64fdbc7-237c-48b6-92da-f180e4dad77b",
   "metadata": {},
   "outputs": [],
   "source": [
    "# Loading in required libraries\n",
    "import pandas as pd\n",
    "import seaborn as sns\n",
    "import numpy as np\n",
    "\n",
    "# Reading data \n",
    "nobel = pd.read_csv('data/nobel.csv')\n",
    "\n",
    "#Most commonly gender \n",
    "top_gender = nobel['sex'].value_counts(normalize=True).index[0]\n",
    "\n",
    "#Most commonly country \n",
    "list_countries = nobel['birth_country'].value_counts(normalize=True).head(1).reset_index()\n",
    "top_country = list_countries.iloc[0,0]\n",
    "\n",
    "\n",
    "#Decade with the highest proportion US-born winners \n",
    "nobel['usa_born_winner'] = nobel['birth_country'] == 'United States of America'\n",
    "nobel['birth_date'] = pd.to_datetime(nobel['birth_date'], errors='coerce')\n",
    "nobel['decade'] = (np.floor(nobel['year'] / 10) * 10).astype(int)\n",
    "proportion_usborn = nobel.groupby('decade',as_index=False)['usa_born_winner'].mean()\n",
    "#Identifying the decade with de highest proporiton of US-born winners\n",
    "max_proportion = proportion_usborn['usa_born_winner'].max()\n",
    "max_decade_usa = proportion_usborn.loc[proportion_usborn['usa_born_winner'] == max_proportion, 'decade'].values[0]\n",
    "\n",
    "\n",
    "#Finding the decade with the highest proportion of females \n",
    "#Creating a boolean column to identify womens \n",
    "nobel['female_winner'] = nobel['sex'] == 'Female'\n",
    "#Groupping by decade and category columns\n",
    "proportion_female = nobel.groupby(['decade','category'],as_index=False)['female_winner'].mean()\n",
    "#Identify the highest proportion\n",
    "max_proportion = proportion_female['female_winner'].max()\n",
    "#Identify decade and category of the highest proportion \n",
    "max_female = proportion_female.loc[proportion_female['female_winner'] == max_proportion, ['decade','category']]\n",
    "#Transforming in dict \n",
    "max_female_dict = max_female.set_index('decade')['category'].to_dict()\n",
    "\n",
    "\n",
    "#Finding the first woman to win a Nobel Prize \n",
    "#Filtering\n",
    "nobel_female = nobel[nobel['sex'] == 'Female']\n",
    "#Selecting the lowest year\n",
    "year = nobel_female['year'].min()\n",
    "#Finding the name\n",
    "first_woman_name = nobel_female.loc[nobel_female['year'] == year,'full_name'].values[0]\n",
    "#Finding the category of Nobel Prize \n",
    "first_woman_category = nobel_female.loc[nobel_female['year'] == year,'category'].values[0]\n",
    "\n",
    "\n",
    "#Finding repeat winners\n",
    "repeat_winners = nobel['full_name'].value_counts()\n",
    "repeat_list = list(repeat_winners[repeat_winners >= 2].index)\n"
   ]
  }
 ],
 "metadata": {
  "kernelspec": {
   "display_name": "Python 3 (ipykernel)",
   "language": "python",
   "name": "python3"
  },
  "language_info": {
   "codemirror_mode": {
    "name": "ipython",
    "version": 3
   },
   "file_extension": ".py",
   "mimetype": "text/x-python",
   "name": "python",
   "nbconvert_exporter": "python",
   "pygments_lexer": "ipython3",
   "version": "3.11.5"
  }
 },
 "nbformat": 4,
 "nbformat_minor": 5
}
