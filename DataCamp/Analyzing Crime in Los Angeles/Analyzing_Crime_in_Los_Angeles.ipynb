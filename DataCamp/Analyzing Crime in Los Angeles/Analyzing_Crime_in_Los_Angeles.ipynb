{
 "cells": [
  {
   "cell_type": "markdown",
   "id": "457c835d-e73d-48f5-8db6-d896a0df252a",
   "metadata": {},
   "source": [
    "# Analyzing Crime in Los Angeles "
   ]
  },
  {
   "cell_type": "markdown",
   "id": "a2bc117d-ec9e-4f62-a271-1d70d18d3816",
   "metadata": {},
   "source": [
    "### DataCamp projects developing to practice and learn"
   ]
  },
  {
   "cell_type": "code",
   "execution_count": null,
   "id": "4ff20000-95c9-42e3-bef1-fc486820d4f5",
   "metadata": {},
   "outputs": [],
   "source": [
    "# Import required libraries\n",
    "import pandas as pd\n",
    "import numpy as np\n",
    "import matplotlib.pyplot as plt\n",
    "import seaborn as sns\n",
    "\n",
    "# Read in and preview the dataset\n",
    "crimes = pd.read_csv(\"crimes.csv\", parse_dates=[\"Date Rptd\", \"DATE OCC\"], dtype={\"TIME OCC\": str})\n",
    "\n",
    "## Which hour has the highest frequency of crimes? Store as an integer variable called peak_crime_hour\n",
    "\n",
    "# Extract the first two digits from \"TIME OCC\", representing the hour,\n",
    "# and convert to integer data type\n",
    "crimes[\"HOUR OCC\"] = crimes[\"TIME OCC\"].str[:2].astype(int)\n",
    "\n",
    "# Produce a countplot to find the largest frequency of crimes by hour\n",
    "sns.countplot(data=crimes, x=\"HOUR OCC\")\n",
    "plt.show()\n",
    "\n",
    "# Midday has the largest volume of crime\n",
    "peak_crime_hour = 12\n",
    "\n",
    "## Which area has the largest frequency of night crimes (crimes committed between 10pm and 3:59am)? \n",
    "## Save as a string variable called peak_night_crime_location\n",
    "# Filter for the night-time hours\n",
    "# 0 = midnight; 3 = crimes between 3am and 3:59am, i.e., don't include 4\n",
    "night_time = crimes[crimes[\"HOUR OCC\"].isin([22,23,0,1,2,3])]\n",
    "\n",
    "# Group by \"AREA NAME\" and count occurrences, filtering for the largest value and saving the \"AREA NAME\"\n",
    "peak_night_crime_location = night_time.groupby(\"AREA NAME\", as_index=False)[\"HOUR OCC\"].count().sort_values(\"HOUR OCC\",ascending=False).iloc[0][\"AREA NAME\"]\n",
    "# Print the peak night crime location\n",
    "print(f\"The area with the largest volume of night crime is {peak_night_crime_location}\")\n",
    "\n",
    "## Identify the number of crimes committed against victims by age group (0-17, 18-25, 26-34, 35-44, 45-54, 55-64, 65+) \n",
    "# Create bins and labels for victim age ranges\n",
    "age_bins = [0, 17, 25, 34, 44, 54, 64, np.inf]\n",
    "age_labels = [\"0-17\", \"18-25\", \"26-34\", \"35-44\", \"45-54\", \"55-64\", \"65+\"]\n",
    "\n",
    "# Add a new column using pd.cut() to bin values into discrete intervals\n",
    "crimes[\"Age Bracket\"] = pd.cut(crimes[\"Vict Age\"],bins=age_bins,labels=age_labels)\n",
    "\n",
    "# Find the category with the largest frequency\n",
    "victim_ages = crimes[\"Age Bracket\"].value_counts()\n",
    "print(victim_ages)"
   ]
  }
 ],
 "metadata": {
  "kernelspec": {
   "display_name": "Python 3 (ipykernel)",
   "language": "python",
   "name": "python3"
  },
  "language_info": {
   "codemirror_mode": {
    "name": "ipython",
    "version": 3
   },
   "file_extension": ".py",
   "mimetype": "text/x-python",
   "name": "python",
   "nbconvert_exporter": "python",
   "pygments_lexer": "ipython3",
   "version": "3.10.9"
  }
 },
 "nbformat": 4,
 "nbformat_minor": 5
}
