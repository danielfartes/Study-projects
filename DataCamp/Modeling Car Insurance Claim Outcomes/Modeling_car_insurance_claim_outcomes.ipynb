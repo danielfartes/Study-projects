{
 "cells": [
  {
   "cell_type": "markdown",
   "id": "b327be3a-7ee2-45ae-864d-666555a64909",
   "metadata": {},
   "source": [
    "# Modeling Car Insurance Claim Outcomes "
   ]
  },
  {
   "cell_type": "markdown",
   "id": "0dd8cbdb-6fdd-438c-8a3d-de4858d65fc6",
   "metadata": {},
   "source": [
    "### DataCamp projects developing to practice and learn"
   ]
  },
  {
   "cell_type": "code",
   "execution_count": null,
   "id": "f5e8a6bb-8848-4389-a36d-9ad3b4a2f3e2",
   "metadata": {},
   "outputs": [],
   "source": [
    "# Import required modules\n",
    "import pandas as pd\n",
    "import numpy as np\n",
    "from statsmodels.formula.api import logit\n",
    "\n",
    "#Reading the dataset\n",
    "car_insurance = pd.read_csv('car_insurance.csv')\n",
    "\n",
    "#Checking missing values\n",
    "car_insurance.info()\n",
    "car_insurance.isna().sum()\n",
    "car_insurance.describe()\n",
    "car_insurance.head()\n",
    "\n",
    "#Changing missing values by the mean of the respective column\n",
    "#Credit_score column\n",
    "car_insurance['credit_score'] = car_insurance['credit_score'].fillna(car_insurance['credit_score'].mean())\n",
    "\n",
    "#anual_mileage column\n",
    "car_insurance['annual_mileage'] = car_insurance['annual_mileage'].fillna(car_insurance['annual_mileage'].mean())\n",
    "\n",
    "#Visualizing the best predictor\n",
    "models = []\n",
    "features = car_insurance.drop(['outcome','id'],axis=1).columns\n",
    "\n",
    "for feature in features:\n",
    "    var = 'outcome ~' + feature\n",
    "    model = logit(var,data=car_insurance).fit()\n",
    "    models.append(model)\n",
    "\n",
    "for i, feature in enumerate(features):\n",
    "    print(\"Summary for feature:\", feature)\n",
    "    print(models[i].summary())\n",
    "\n",
    "#Measuring performance \n",
    "accuracies = [] \n",
    "for model in models:\n",
    "    conf_matrix = model.pred_table()\n",
    "    conf_matrix = model.pred_table()\n",
    "    accuracy = (conf_matrix[0, 0] + conf_matrix[1, 1]) / np.sum(conf_matrix)\n",
    "    accuracies.append(accuracy)\n",
    "\n",
    "#Identifying the highest accuracie\n",
    "best_accuracy = max(accuracies)\n",
    "index_highest_accuracie = accuracies.index(best_accuracy)\n",
    "\n",
    "#Identifyind the model with the highest accuracie \n",
    "best_feature = features[index_highest_accuracie]\n",
    "\n",
    "#Creating a dataframe with the best feature and best accuracy \n",
    "best_feature_dictionary = {'best_feature': best_feature, 'best_accuracy': best_accuracy}\n",
    "best_feature_df = pd.DataFrame(best_feature_dictionary,index=[0])\n"
   ]
  }
 ],
 "metadata": {
  "kernelspec": {
   "display_name": "Python 3 (ipykernel)",
   "language": "python",
   "name": "python3"
  },
  "language_info": {
   "codemirror_mode": {
    "name": "ipython",
    "version": 3
   },
   "file_extension": ".py",
   "mimetype": "text/x-python",
   "name": "python",
   "nbconvert_exporter": "python",
   "pygments_lexer": "ipython3",
   "version": "3.11.5"
  }
 },
 "nbformat": 4,
 "nbformat_minor": 5
}
