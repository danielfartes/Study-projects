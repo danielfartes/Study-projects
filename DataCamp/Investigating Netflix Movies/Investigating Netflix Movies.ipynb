{
 "cells": [
  {
   "cell_type": "markdown",
   "id": "8ed6e737-25f8-43ce-86ee-d9adfb7a798c",
   "metadata": {},
   "source": [
    "# Investigating Netflix Movies"
   ]
  },
  {
   "cell_type": "markdown",
   "id": "1259f115-fc87-489a-bd66-837526203aec",
   "metadata": {},
   "source": [
    "### DataCamp projects developing to practice and learn"
   ]
  },
  {
   "cell_type": "code",
   "execution_count": null,
   "id": "066a744d-0a3f-4664-aa64-bbcd480cf673",
   "metadata": {},
   "outputs": [],
   "source": [
    "# Importing pandas and matplotlib\n",
    "import pandas as pd\n",
    "import matplotlib.pyplot as plt\n",
    "\n",
    "# Reading the CSV file\n",
    "netflix_df = pd.read_csv('netflix_data.csv')\n",
    "\n",
    "#Excluding 'TV Show' type\n",
    "netflix_subset = netflix_df[netflix_df['type'] != 'TV Show']\n",
    "\n",
    "#Filtering columns\n",
    "netflix_movies = netflix_subset[['title','country','genre','release_year','duration']]\n",
    "\n",
    "#Filtering movies with durartion less than 60 minutes\n",
    "short_movies = netflix_movies[netflix_movies['duration'] < 60]\n",
    "\n",
    "# Investigate possible contributing factors\n",
    "print(short_movies.head())\n",
    "\n",
    "#Creating colors list \n",
    "colors = []\n",
    "for index,row in netflix_movies.iterrows():\n",
    "    if row['genre'] == 'Children':\n",
    "        colors.append('red')\n",
    "    elif row['genre'] == \"Documentaries\":\n",
    "        colors.append('blue')        \n",
    "    elif row['genre'] == \"Stand-Up\":\n",
    "        colors.append('green')\n",
    "    else:\n",
    "        colors.append('black')\n",
    "            \n",
    "#Creating a scatter plot to see the variaton of the duration of movies by the time \n",
    "fig = plt.figure(figsize=(12, 8))\n",
    "plt.scatter(netflix_movies['release_year'], netflix_movies['duration'], c=colors)\n",
    "plt.xlabel(\"Release year\")\n",
    "plt.ylabel(\"Duration (min)\")\n",
    "plt.title(\"Movie Duration by Year of Release\")\n",
    "plt.show()\n",
    "\n",
    "#Answering the question \n",
    "answer = 'No'\n"
   ]
  }
 ],
 "metadata": {
  "kernelspec": {
   "display_name": "Python 3 (ipykernel)",
   "language": "python",
   "name": "python3"
  },
  "language_info": {
   "codemirror_mode": {
    "name": "ipython",
    "version": 3
   },
   "file_extension": ".py",
   "mimetype": "text/x-python",
   "name": "python",
   "nbconvert_exporter": "python",
   "pygments_lexer": "ipython3",
   "version": "3.10.9"
  }
 },
 "nbformat": 4,
 "nbformat_minor": 5
}
