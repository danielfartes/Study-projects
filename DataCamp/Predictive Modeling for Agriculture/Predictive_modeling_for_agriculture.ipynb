{
 "cells": [
  {
   "cell_type": "markdown",
   "id": "4f255e94-6be9-46dd-9957-0bf7ab9fa61a",
   "metadata": {},
   "source": [
    "# Predictive Modeling for Agriculture\n"
   ]
  },
  {
   "cell_type": "markdown",
   "id": "1ed26f53-0c4b-4f70-9e91-d8c3b8468386",
   "metadata": {},
   "source": [
    "### DataCamp projects developing to practice and learn"
   ]
  },
  {
   "cell_type": "code",
   "execution_count": null,
   "id": "1732b175-dc15-4a77-8aa4-3f3c1dbc5336",
   "metadata": {},
   "outputs": [],
   "source": [
    "# All required libraries are imported here for you.\n",
    "import pandas as pd\n",
    "from sklearn.linear_model import LogisticRegression\n",
    "from sklearn.model_selection import train_test_split\n",
    "from sklearn import metrics\n",
    "\n",
    "# Load the dataset\n",
    "crops = pd.read_csv(\"soil_measures.csv\")\n",
    "\n",
    "# Analyzing the data \n",
    "print(crops.info())\n",
    "print(crops.isna().sum())\n",
    "print(crops.head())\n",
    "print(crops['crop'].unique())\n",
    "\n",
    "#Split de data\n",
    "X = crops.drop('crop',axis=1)\n",
    "y = crops['crop']\n",
    "X_train,X_test, y_train,y_test = train_test_split(X,y,test_size=0.3,random_state=42,stratify=y)\n",
    "\n",
    "#Evaluating performance \n",
    "features_dict = {}\n",
    "features_selected = ['N','P','K','ph']\n",
    "\n",
    "for feature in features_selected:\n",
    "    log_reg = LogisticRegression(multi_class='multinomial')\n",
    "    log_reg.fit(X_train[[feature]],y_train)\n",
    "    y_pred = log_reg.predict(X_test[[feature]])    \n",
    "    feature_performance = metrics.f1_score(y_test,y_pred,average='weighted')\n",
    "    features_dict[feature] = feature_performance\n",
    "    print(f\"{feature} score:{feature_performance}\")\n",
    "\n",
    "#Selecting the best predictive feature and evaluation score\n",
    "best_predictive_feature = {max(features_dict, key=features_dict.get): max(features_dict.values())}\n",
    "\n",
    "print(best_predictive_feature)\n"
   ]
  }
 ],
 "metadata": {
  "kernelspec": {
   "display_name": "Python 3 (ipykernel)",
   "language": "python",
   "name": "python3"
  },
  "language_info": {
   "codemirror_mode": {
    "name": "ipython",
    "version": 3
   },
   "file_extension": ".py",
   "mimetype": "text/x-python",
   "name": "python",
   "nbconvert_exporter": "python",
   "pygments_lexer": "ipython3",
   "version": "3.11.5"
  }
 },
 "nbformat": 4,
 "nbformat_minor": 5
}
