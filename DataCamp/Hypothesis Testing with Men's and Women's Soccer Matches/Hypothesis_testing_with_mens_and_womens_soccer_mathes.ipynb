{
 "cells": [
  {
   "cell_type": "markdown",
   "id": "a55f3769-4edc-447e-8149-4df4068c6465",
   "metadata": {},
   "source": [
    "# Hypothesis Testing with Men's and Women's Soccer Matches"
   ]
  },
  {
   "cell_type": "markdown",
   "id": "ef6bed7b-089a-442b-a8b9-dd77fa940149",
   "metadata": {},
   "source": [
    "### DataCamp projects developing to practice and learn"
   ]
  },
  {
   "cell_type": "code",
   "execution_count": null,
   "id": "d3cb7e2f-612b-4200-8566-a12147db82df",
   "metadata": {},
   "outputs": [],
   "source": [
    "import pandas as pd\n",
    "from scipy.stats import norm\n",
    "from scipy.stats import mannwhitneyu\n",
    "\n",
    "#Reading data\n",
    "women_results = pd.read_csv('women_results.csv')\n",
    "men_results = pd.read_csv('men_results.csv')\n",
    "\n",
    "#Preparing data \n",
    "#Changing the date column to datetime format \n",
    "women_results['date'] = pd.to_datetime(women_results['date'])\n",
    "men_results['date'] = pd.to_datetime(men_results['date'])\n",
    "\n",
    "#Checking \n",
    "#print(women_results.info())\n",
    "#print(men_results.info())\n",
    "\n",
    "#Filtering only games after 2002-01-01\n",
    "women_results_over_2002 = women_results[women_results['date'] > '2002-01-01']\n",
    "men_results_over_2002 = men_results[men_results['date'] > '2002-01-01']\n",
    "\n",
    "#Filtering only games in \"Fifa World Cup\"\n",
    "women_results_over_2002 = women_results_over_2002[women_results_over_2002['tournament'] == 'FIFA World Cup']\n",
    "men_results_over_2002 = men_results_over_2002[men_results_over_2002['tournament'] == 'FIFA World Cup']\n",
    "\n",
    "#Finding the total score\n",
    "#For women\n",
    "women_results_over_2002['total_score'] = women_results_over_2002['home_score']+ women_results_over_2002['away_score']\n",
    "#For men\n",
    "men_results_over_2002['total_score'] = men_results_over_2002['home_score']+ men_results_over_2002['away_score']\n",
    "\n",
    "#Determine normality using histograms\n",
    "#For women\n",
    "women_results_over_2002[\"total_score\"].hist()\n",
    "plt.show()\n",
    "plt.clf()\n",
    "#For men\n",
    "men_results_over_2002[\"total_score\"].hist()\n",
    "plt.show()\n",
    "plt.clf()\n",
    "\n",
    "#Calculating p-value\n",
    "p_val = scipy.stats.mannwhitneyu(x=women_results_over_2002['total_score'],y=men_results_over_2002['total_score'],alternative='greater').pvalue\n",
    "\n",
    "# Determine hypothesis test result using SciPy\n",
    "if p_val <= 0.01:\n",
    "    result = \"reject\"\n",
    "else:\n",
    "    result = \"fail to reject\"\n",
    "\n",
    "result_dict = {'p_val':p_val,'result':result}\n"
   ]
  }
 ],
 "metadata": {
  "kernelspec": {
   "display_name": "Python 3 (ipykernel)",
   "language": "python",
   "name": "python3"
  },
  "language_info": {
   "codemirror_mode": {
    "name": "ipython",
    "version": 3
   },
   "file_extension": ".py",
   "mimetype": "text/x-python",
   "name": "python",
   "nbconvert_exporter": "python",
   "pygments_lexer": "ipython3",
   "version": "3.11.5"
  }
 },
 "nbformat": 4,
 "nbformat_minor": 5
}
