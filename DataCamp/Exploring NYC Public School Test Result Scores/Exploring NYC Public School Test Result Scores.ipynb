{
 "cells": [
  {
   "cell_type": "markdown",
   "id": "163ae482-2c0b-4be0-be91-7a34f28e15eb",
   "metadata": {},
   "source": [
    "# Exploring NYC Public School Test Result Scores"
   ]
  },
  {
   "cell_type": "markdown",
   "id": "88ab4eb8-c1b4-4819-a40e-ecd1b8e9c3a6",
   "metadata": {},
   "source": [
    "### DataCamp projects developing to practice and learn"
   ]
  },
  {
   "cell_type": "code",
   "execution_count": null,
   "id": "316be8be-2dba-4cf9-828b-6c6c2dfcadcb",
   "metadata": {},
   "outputs": [],
   "source": [
    "#Importing pandas\n",
    "import pandas as pd\n",
    "\n",
    "# Read in the data\n",
    "schools = pd.read_csv(\"schools.csv\")\n",
    "\n",
    "# Preview the data\n",
    "schools.head()\n",
    "\n",
    "#Finding schools with the best math scores\n",
    "\n",
    "#Filtering schools with math scores of at least 80%\n",
    "best_math_schools = schools[schools['average_math'] >= 0.8*800]\n",
    "#Selecting columns\n",
    "best_math_schools = best_math_schools[['school_name','average_math']]\n",
    "#Sorting data by 'average_math' in descending order\n",
    "best_math_schools = best_math_schools.sort_values(by='average_math',ascending=False)\n",
    "\n",
    "#Identifyind the top 10 performing schools \n",
    "\n",
    "#Receiving data in new variable \n",
    "top_10_schools = schools\n",
    "#Creating a new column called 'total_SAT'\n",
    "top_10_schools['total_SAT'] = top_10_schools[['average_math', 'average_reading', 'average_writing']].sum(axis=1)\n",
    "#Selecting columns\n",
    "top_10_schools = top_10_schools[['school_name','total_SAT']]\n",
    "#Sorting data by 'total_SAT' in descending order \n",
    "top_10_schools = top_10_schools.sort_values(by='total_SAT',ascending=False)\n",
    "#Filtering the first 10 top schools\n",
    "top_10_schools = top_10_schools.head(10)\n",
    "\n",
    "#Locating the NYC borough with the largest standard deviation in SAT performance \n",
    "\n",
    "#Creating a new column called 'total_SAT'\n",
    "schools['total_SAT'] = schools[['average_math', 'average_reading', 'average_writing']].sum(axis=1)\n",
    "#Aggruping by borough\n",
    "largest_std_dev = schools.groupby('borough')['total_SAT'].agg(['count', 'mean', 'std']).round(2)\n",
    "#Filtering for the largest std\n",
    "largest_std_dev = largest_std_dev[largest_std_dev['std'] == largest_std_dev['std'].max()]\n",
    "#Renaming columns\n",
    "largest_std_dev.rename(columns={'count': 'num_schools', 'mean': 'average_SAT', 'std': 'std_SAT'}, inplace=True)"
   ]
  }
 ],
 "metadata": {
  "kernelspec": {
   "display_name": "Python 3 (ipykernel)",
   "language": "python",
   "name": "python3"
  },
  "language_info": {
   "codemirror_mode": {
    "name": "ipython",
    "version": 3
   },
   "file_extension": ".py",
   "mimetype": "text/x-python",
   "name": "python",
   "nbconvert_exporter": "python",
   "pygments_lexer": "ipython3",
   "version": "3.10.9"
  }
 },
 "nbformat": 4,
 "nbformat_minor": 5
}
